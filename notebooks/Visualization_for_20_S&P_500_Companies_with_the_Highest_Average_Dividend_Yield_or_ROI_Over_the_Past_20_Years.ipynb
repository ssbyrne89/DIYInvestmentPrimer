{
  "nbformat": 4,
  "nbformat_minor": 0,
  "metadata": {
    "colab": {
      "name": "Visualization for 20 S&P 500 Companies with the Highest Average Dividend Yield or ROI Over the Past 20 Years",
      "provenance": []
    },
    "kernelspec": {
      "name": "python3",
      "display_name": "Python 3"
    },
    "language_info": {
      "name": "python"
    }
  },
  "cells": [
    {
      "cell_type": "code",
      "metadata": {
        "id": "ZSb1-t49yoiO"
      },
      "source": [
        "import pandas as pd\n",
        "import plotly.graph_objects as go\n",
        "import numpy as np\n",
        "import requests\n",
        "import json\n",
        "from time import sleep\n",
        "from google.colab import files"
      ],
      "execution_count": null,
      "outputs": []
    },
    {
      "cell_type": "code",
      "metadata": {
        "colab": {
          "resources": {
            "http://localhost:8080/nbextensions/google.colab/files.js": {
              "data": "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",
              "ok": true,
              "headers": [
                [
                  "content-type",
                  "application/javascript"
                ]
              ],
              "status": 200,
              "status_text": ""
            }
          },
          "base_uri": "https://localhost:8080/",
          "height": 72
        },
        "id": "pH2g-fPN4UsU",
        "outputId": "4c9e315a-01b6-4b25-9f33-16ce09db9e6a"
      },
      "source": [
        "uploaded = files.upload()"
      ],
      "execution_count": null,
      "outputs": [
        {
          "output_type": "display_data",
          "data": {
            "text/html": [
              "\n",
              "     <input type=\"file\" id=\"files-8e977aa7-fcc8-40ec-b019-a12823a38c05\" name=\"files[]\" multiple disabled\n",
              "        style=\"border:none\" />\n",
              "     <output id=\"result-8e977aa7-fcc8-40ec-b019-a12823a38c05\">\n",
              "      Upload widget is only available when the cell has been executed in the\n",
              "      current browser session. Please rerun this cell to enable.\n",
              "      </output>\n",
              "      <script src=\"/nbextensions/google.colab/files.js\"></script> "
            ],
            "text/plain": [
              "<IPython.core.display.HTML object>"
            ]
          },
          "metadata": {
            "tags": []
          }
        },
        {
          "output_type": "stream",
          "text": [
            "Saving get_top_20_div_yields.csv to get_top_20_div_yields.csv\n"
          ],
          "name": "stdout"
        }
      ]
    },
    {
      "cell_type": "code",
      "metadata": {
        "colab": {
          "base_uri": "https://localhost:8080/"
        },
        "id": "UcPsYQmzzPrx",
        "outputId": "f2e882fc-6ad4-4eeb-ba1c-8106fdc05d92"
      },
      "source": [
        "!pip install chart_studio"
      ],
      "execution_count": null,
      "outputs": [
        {
          "output_type": "stream",
          "text": [
            "Collecting chart_studio\n",
            "\u001b[?25l  Downloading https://files.pythonhosted.org/packages/ca/ce/330794a6b6ca4b9182c38fc69dd2a9cbff60fd49421cb8648ee5fee352dc/chart_studio-1.1.0-py3-none-any.whl (64kB)\n",
            "\r\u001b[K     |█████                           | 10kB 6.9MB/s eta 0:00:01\r\u001b[K     |██████████▏                     | 20kB 10.8MB/s eta 0:00:01\r\u001b[K     |███████████████▎                | 30kB 9.1MB/s eta 0:00:01\r\u001b[K     |████████████████████▍           | 40kB 8.1MB/s eta 0:00:01\r\u001b[K     |█████████████████████████▍      | 51kB 4.6MB/s eta 0:00:01\r\u001b[K     |██████████████████████████████▌ | 61kB 5.4MB/s eta 0:00:01\r\u001b[K     |████████████████████████████████| 71kB 3.4MB/s \n",
            "\u001b[?25hRequirement already satisfied: retrying>=1.3.3 in /usr/local/lib/python3.7/dist-packages (from chart_studio) (1.3.3)\n",
            "Requirement already satisfied: requests in /usr/local/lib/python3.7/dist-packages (from chart_studio) (2.23.0)\n",
            "Requirement already satisfied: plotly in /usr/local/lib/python3.7/dist-packages (from chart_studio) (4.4.1)\n",
            "Requirement already satisfied: six in /usr/local/lib/python3.7/dist-packages (from chart_studio) (1.15.0)\n",
            "Requirement already satisfied: chardet<4,>=3.0.2 in /usr/local/lib/python3.7/dist-packages (from requests->chart_studio) (3.0.4)\n",
            "Requirement already satisfied: urllib3!=1.25.0,!=1.25.1,<1.26,>=1.21.1 in /usr/local/lib/python3.7/dist-packages (from requests->chart_studio) (1.24.3)\n",
            "Requirement already satisfied: certifi>=2017.4.17 in /usr/local/lib/python3.7/dist-packages (from requests->chart_studio) (2020.12.5)\n",
            "Requirement already satisfied: idna<3,>=2.5 in /usr/local/lib/python3.7/dist-packages (from requests->chart_studio) (2.10)\n",
            "Installing collected packages: chart-studio\n",
            "Successfully installed chart-studio-1.1.0\n"
          ],
          "name": "stdout"
        }
      ]
    },
    {
      "cell_type": "code",
      "metadata": {
        "id": "Zgqp66dIzQtp"
      },
      "source": [
        "import chart_studio.plotly as py\n",
        "\n",
        "import chart_studio.tools as tls\n",
        "\n",
        "username=\"ssbyrne89\"\n",
        "api_key='oVZU9m2Nq00N1QppHpC8'\n",
        "\n",
        "tls.set_credentials_file(username=username, api_key=api_key)"
      ],
      "execution_count": null,
      "outputs": []
    },
    {
      "cell_type": "code",
      "metadata": {
        "colab": {
          "base_uri": "https://localhost:8080/"
        },
        "id": "ERQyn3s-Y-gm",
        "outputId": "0632c947-be5e-40a9-a7a2-53e5253fce7b"
      },
      "source": [
        "cnames"
      ],
      "execution_count": null,
      "outputs": [
        {
          "output_type": "execute_result",
          "data": {
            "text/plain": [
              "['Altria Group Inc',\n",
              " 'Duke Realty Corp',\n",
              " 'Welltower Inc.',\n",
              " 'Ventas Inc',\n",
              " 'Lumen Technologies',\n",
              " 'Healthpeak Properties',\n",
              " 'Realty Income Corporation',\n",
              " 'AT&T Inc.',\n",
              " 'Mid-America Apartments',\n",
              " 'Kimco Realty',\n",
              " 'Prologis',\n",
              " 'UDR, Inc.',\n",
              " 'L Brands Inc.',\n",
              " 'Kinder Morgan',\n",
              " 'LyondellBasell',\n",
              " 'Ameren Corp',\n",
              " 'CenterPoint Energy',\n",
              " 'Philip Morris International',\n",
              " 'Verizon Communications',\n",
              " 'Consolidated Edison']"
            ]
          },
          "metadata": {
            "tags": []
          },
          "execution_count": 135
        }
      ]
    },
    {
      "cell_type": "code",
      "metadata": {
        "id": "v9f4ogXpZBdJ"
      },
      "source": [
        "tlist = [\"MO\", \"DRE\", \"WELL\", \"VTR\", \"LUMN\", \"PEAK\", \"O\", \"T\", \"MAA\",\n",
        "         \"KIM\", \"PLD\", \"UDR\", \"LB\", \"KMI\", \"LYB\", \"AEE\", \"CNP\", \"PM\",\n",
        "         \"VZ\", \"ED\"]"
      ],
      "execution_count": null,
      "outputs": []
    },
    {
      "cell_type": "code",
      "metadata": {
        "id": "2ABn4BlVcUWT"
      },
      "source": [
        "  test=f'https://www.alphavantage.co/query?function=TIME_SERIES_DAILY&symbol=MO&apikey=abc123'\n",
        "  parsed_test = json.loads(requests.get(test).text)\n",
        " "
      ],
      "execution_count": null,
      "outputs": []
    },
    {
      "cell_type": "code",
      "metadata": {
        "id": "tgMIXqS-ebKR"
      },
      "source": [
        " parsed_test = float(parsed_test[\"Time Series (Daily)\"][\"2021-03-31\"][\"4. close\"])"
      ],
      "execution_count": null,
      "outputs": []
    },
    {
      "cell_type": "code",
      "metadata": {
        "colab": {
          "base_uri": "https://localhost:8080/"
        },
        "id": "fSA-VCd2Ym-1",
        "outputId": "798e3dea-c7c2-408d-9a64-e4035b6df93e"
      },
      "source": [
        "yesterday_close_price = []\n",
        "for ticker in tlist:\n",
        "  divs=f'https://www.alphavantage.co/query?function=TIME_SERIES_DAILY&symbol={ticker}&apikey=******'\n",
        "  parsed_divs = json.loads(requests.get(divs).text)\n",
        "  parsed_divs = float(parsed_divs[\"Time Series (Daily)\"][\"2021-03-31\"][\"4. close\"])\n",
        "  yesterday_close_price.append(parsed_divs)\n",
        "  x = len(yesterday_close_price) % 5\n",
        "  if x == 0:\n",
        "    sleep(65)\n",
        "yesterday_close_price"
      ],
      "execution_count": null,
      "outputs": [
        {
          "output_type": "execute_result",
          "data": {
            "text/plain": [
              "[51.16,\n",
              " 41.93,\n",
              " 71.63,\n",
              " 53.34,\n",
              " 13.35,\n",
              " 31.74,\n",
              " 63.5,\n",
              " 30.27,\n",
              " 144.36,\n",
              " 18.75,\n",
              " 106.0,\n",
              " 43.86,\n",
              " 61.86,\n",
              " 16.65,\n",
              " 104.05,\n",
              " 81.36,\n",
              " 22.65,\n",
              " 88.74,\n",
              " 58.15,\n",
              " 74.8]"
            ]
          },
          "metadata": {
            "tags": []
          },
          "execution_count": 149
        }
      ]
    },
    {
      "cell_type": "code",
      "metadata": {
        "colab": {
          "base_uri": "https://localhost:8080/",
          "height": 669
        },
        "id": "QECINfZ13Eyz",
        "outputId": "2d3fea06-ce54-4b90-d71d-69b19faa8e9c"
      },
      "source": [
        "Company_Name_and_twenty_yearAVG = pd.read_csv(\"/content/get_top_20_div_yields.csv\", names=['CName', 'TwentyYearAVG'])\n",
        "Company_Name_and_twenty_yearAVG = Company_Name_and_twenty_yearAVG[1:]\n",
        "Company_Name_and_twenty_yearAVG\n"
      ],
      "execution_count": null,
      "outputs": [
        {
          "output_type": "execute_result",
          "data": {
            "text/html": [
              "<div>\n",
              "<style scoped>\n",
              "    .dataframe tbody tr th:only-of-type {\n",
              "        vertical-align: middle;\n",
              "    }\n",
              "\n",
              "    .dataframe tbody tr th {\n",
              "        vertical-align: top;\n",
              "    }\n",
              "\n",
              "    .dataframe thead th {\n",
              "        text-align: right;\n",
              "    }\n",
              "</style>\n",
              "<table border=\"1\" class=\"dataframe\">\n",
              "  <thead>\n",
              "    <tr style=\"text-align: right;\">\n",
              "      <th></th>\n",
              "      <th>CName</th>\n",
              "      <th>TwentyYearAVG</th>\n",
              "    </tr>\n",
              "  </thead>\n",
              "  <tbody>\n",
              "    <tr>\n",
              "      <th>1</th>\n",
              "      <td>Altria Group Inc</td>\n",
              "      <td>0.058697</td>\n",
              "    </tr>\n",
              "    <tr>\n",
              "      <th>2</th>\n",
              "      <td>Duke Realty Corp</td>\n",
              "      <td>0.057151</td>\n",
              "    </tr>\n",
              "    <tr>\n",
              "      <th>3</th>\n",
              "      <td>Welltower Inc.</td>\n",
              "      <td>0.056673</td>\n",
              "    </tr>\n",
              "    <tr>\n",
              "      <th>4</th>\n",
              "      <td>Ventas Inc</td>\n",
              "      <td>0.056501</td>\n",
              "    </tr>\n",
              "    <tr>\n",
              "      <th>5</th>\n",
              "      <td>Lumen Technologies</td>\n",
              "      <td>0.055808</td>\n",
              "    </tr>\n",
              "    <tr>\n",
              "      <th>6</th>\n",
              "      <td>Healthpeak Properties</td>\n",
              "      <td>0.055529</td>\n",
              "    </tr>\n",
              "    <tr>\n",
              "      <th>7</th>\n",
              "      <td>Realty Income Corporation</td>\n",
              "      <td>0.054746</td>\n",
              "    </tr>\n",
              "    <tr>\n",
              "      <th>8</th>\n",
              "      <td>AT&amp;T Inc.</td>\n",
              "      <td>0.053823</td>\n",
              "    </tr>\n",
              "    <tr>\n",
              "      <th>9</th>\n",
              "      <td>Mid-America Apartments</td>\n",
              "      <td>0.053800</td>\n",
              "    </tr>\n",
              "    <tr>\n",
              "      <th>10</th>\n",
              "      <td>Kimco Realty</td>\n",
              "      <td>0.051588</td>\n",
              "    </tr>\n",
              "    <tr>\n",
              "      <th>11</th>\n",
              "      <td>Prologis</td>\n",
              "      <td>0.049896</td>\n",
              "    </tr>\n",
              "    <tr>\n",
              "      <th>12</th>\n",
              "      <td>UDR, Inc.</td>\n",
              "      <td>0.049469</td>\n",
              "    </tr>\n",
              "    <tr>\n",
              "      <th>13</th>\n",
              "      <td>L Brands Inc.</td>\n",
              "      <td>0.049452</td>\n",
              "    </tr>\n",
              "    <tr>\n",
              "      <th>14</th>\n",
              "      <td>Kinder Morgan</td>\n",
              "      <td>0.048333</td>\n",
              "    </tr>\n",
              "    <tr>\n",
              "      <th>15</th>\n",
              "      <td>LyondellBasell</td>\n",
              "      <td>0.048197</td>\n",
              "    </tr>\n",
              "    <tr>\n",
              "      <th>16</th>\n",
              "      <td>Ameren Corp</td>\n",
              "      <td>0.046571</td>\n",
              "    </tr>\n",
              "    <tr>\n",
              "      <th>17</th>\n",
              "      <td>CenterPoint Energy</td>\n",
              "      <td>0.046072</td>\n",
              "    </tr>\n",
              "    <tr>\n",
              "      <th>18</th>\n",
              "      <td>Philip Morris International</td>\n",
              "      <td>0.045900</td>\n",
              "    </tr>\n",
              "    <tr>\n",
              "      <th>19</th>\n",
              "      <td>Verizon Communications</td>\n",
              "      <td>0.045720</td>\n",
              "    </tr>\n",
              "    <tr>\n",
              "      <th>20</th>\n",
              "      <td>Consolidated Edison</td>\n",
              "      <td>0.045601</td>\n",
              "    </tr>\n",
              "  </tbody>\n",
              "</table>\n",
              "</div>"
            ],
            "text/plain": [
              "                          CName  TwentyYearAVG\n",
              "1              Altria Group Inc       0.058697\n",
              "2              Duke Realty Corp       0.057151\n",
              "3                Welltower Inc.       0.056673\n",
              "4                    Ventas Inc       0.056501\n",
              "5            Lumen Technologies       0.055808\n",
              "6         Healthpeak Properties       0.055529\n",
              "7     Realty Income Corporation       0.054746\n",
              "8                     AT&T Inc.       0.053823\n",
              "9        Mid-America Apartments       0.053800\n",
              "10                 Kimco Realty       0.051588\n",
              "11                     Prologis       0.049896\n",
              "12                    UDR, Inc.       0.049469\n",
              "13                L Brands Inc.       0.049452\n",
              "14                Kinder Morgan       0.048333\n",
              "15               LyondellBasell       0.048197\n",
              "16                  Ameren Corp       0.046571\n",
              "17           CenterPoint Energy       0.046072\n",
              "18  Philip Morris International       0.045900\n",
              "19       Verizon Communications       0.045720\n",
              "20          Consolidated Edison       0.045601"
            ]
          },
          "metadata": {
            "tags": []
          },
          "execution_count": 58
        }
      ]
    },
    {
      "cell_type": "code",
      "metadata": {
        "colab": {
          "base_uri": "https://localhost:8080/"
        },
        "id": "8TNNdvC_81T3",
        "outputId": "8fc8c721-22e8-4588-82c1-3e33de0e5280"
      },
      "source": [
        "Company_Name_and_twenty_yearAVG[\"TwentyYearAVG\"]"
      ],
      "execution_count": null,
      "outputs": [
        {
          "output_type": "execute_result",
          "data": {
            "text/plain": [
              "1     0.058697\n",
              "2     0.057151\n",
              "3     0.056673\n",
              "4     0.056501\n",
              "5     0.055808\n",
              "6     0.055529\n",
              "7     0.054746\n",
              "8     0.053823\n",
              "9     0.053800\n",
              "10    0.051588\n",
              "11    0.049896\n",
              "12    0.049469\n",
              "13    0.049452\n",
              "14    0.048333\n",
              "15    0.048197\n",
              "16    0.046571\n",
              "17    0.046072\n",
              "18    0.045900\n",
              "19    0.045720\n",
              "20    0.045601\n",
              "Name: TwentyYearAVG, dtype: float64"
            ]
          },
          "metadata": {
            "tags": []
          },
          "execution_count": 59
        }
      ]
    },
    {
      "cell_type": "code",
      "metadata": {
        "colab": {
          "base_uri": "https://localhost:8080/"
        },
        "id": "4DBDEZwMJ3rL",
        "outputId": "c750a9c6-5163-4d89-ef74-f378105b700d"
      },
      "source": [
        "TwentyYearAVG=[]\n",
        "for avg in Company_Name_and_twenty_yearAVG['TwentyYearAVG']:\n",
        "  TwentyYearAVG.append(avg)\n",
        "TwentyYearAVG"
      ],
      "execution_count": null,
      "outputs": [
        {
          "output_type": "execute_result",
          "data": {
            "text/plain": [
              "[0.058696507692857926,\n",
              " 0.057151060643385536,\n",
              " 0.05667315287016405,\n",
              " 0.0565014795253825,\n",
              " 0.05580794858749565,\n",
              " 0.05552909781390095,\n",
              " 0.05474614201732103,\n",
              " 0.05382290175446503,\n",
              " 0.05379960641330391,\n",
              " 0.05158771100036514,\n",
              " 0.049896163001961584,\n",
              " 0.04946868173114871,\n",
              " 0.04945182357130865,\n",
              " 0.04833339769739557,\n",
              " 0.04819666129852269,\n",
              " 0.04657089097479402,\n",
              " 0.046071546937980684,\n",
              " 0.04589967474528582,\n",
              " 0.04571992404583074,\n",
              " 0.045600840863564016]"
            ]
          },
          "metadata": {
            "tags": []
          },
          "execution_count": 73
        }
      ]
    },
    {
      "cell_type": "code",
      "metadata": {
        "colab": {
          "base_uri": "https://localhost:8080/"
        },
        "id": "1MzdVFI5Ai9H",
        "outputId": "a44a3570-fa49-404e-c0c1-3afdefd4de98"
      },
      "source": [
        "print(type(Company_Name_and_twenty_yearAVG))\n",
        "cnames=[]\n",
        "for names in Company_Name_and_twenty_yearAVG[\"CName\"]:\n",
        "  cnames.append(names)\n",
        "print(type(cnames))\n",
        "cnames"
      ],
      "execution_count": null,
      "outputs": [
        {
          "output_type": "stream",
          "text": [
            "<class 'pandas.core.frame.DataFrame'>\n",
            "<class 'list'>\n"
          ],
          "name": "stdout"
        },
        {
          "output_type": "execute_result",
          "data": {
            "text/plain": [
              "['Altria Group Inc',\n",
              " 'Duke Realty Corp',\n",
              " 'Welltower Inc.',\n",
              " 'Ventas Inc',\n",
              " 'Lumen Technologies',\n",
              " 'Healthpeak Properties',\n",
              " 'Realty Income Corporation',\n",
              " 'AT&T Inc.',\n",
              " 'Mid-America Apartments',\n",
              " 'Kimco Realty',\n",
              " 'Prologis',\n",
              " 'UDR, Inc.',\n",
              " 'L Brands Inc.',\n",
              " 'Kinder Morgan',\n",
              " 'LyondellBasell',\n",
              " 'Ameren Corp',\n",
              " 'CenterPoint Energy',\n",
              " 'Philip Morris International',\n",
              " 'Verizon Communications',\n",
              " 'Consolidated Edison']"
            ]
          },
          "metadata": {
            "tags": []
          },
          "execution_count": 72
        }
      ]
    },
    {
      "cell_type": "code",
      "metadata": {
        "colab": {
          "base_uri": "https://localhost:8080/",
          "height": 785
        },
        "id": "-g383bE26VRF",
        "outputId": "66803b26-6808-4e1b-c708-83e4fc95d5aa"
      },
      "source": [
        "TwentyYearDivYieldAVG = pd.read_csv('/content/the20_companies_w_the_highest_20_Year_div_yield_average.csv')\n",
        "TwentyYearDivYieldAVG"
      ],
      "execution_count": null,
      "outputs": [
        {
          "output_type": "execute_result",
          "data": {
            "text/html": [
              "<div>\n",
              "<style scoped>\n",
              "    .dataframe tbody tr th:only-of-type {\n",
              "        vertical-align: middle;\n",
              "    }\n",
              "\n",
              "    .dataframe tbody tr th {\n",
              "        vertical-align: top;\n",
              "    }\n",
              "\n",
              "    .dataframe thead th {\n",
              "        text-align: right;\n",
              "    }\n",
              "</style>\n",
              "<table border=\"1\" class=\"dataframe\">\n",
              "  <thead>\n",
              "    <tr style=\"text-align: right;\">\n",
              "      <th></th>\n",
              "      <th>year</th>\n",
              "      <th>Altria Group Inc</th>\n",
              "      <th>Duke Realty Corp</th>\n",
              "      <th>Welltower Inc.</th>\n",
              "      <th>Ventas Inc</th>\n",
              "      <th>Lumen Technologies</th>\n",
              "      <th>Healthpeak Properties</th>\n",
              "      <th>Realty Income Corporation</th>\n",
              "      <th>AT&amp;T Inc.</th>\n",
              "      <th>Mid-America Apartments</th>\n",
              "      <th>Kimco Realty</th>\n",
              "      <th>Prologis</th>\n",
              "      <th>UDR, Inc.</th>\n",
              "      <th>L Brands Inc.</th>\n",
              "      <th>Kinder Morgan</th>\n",
              "      <th>LyondellBasell</th>\n",
              "      <th>Ameren Corp</th>\n",
              "      <th>CenterPoint Energy</th>\n",
              "      <th>Philip Morris International</th>\n",
              "      <th>Verizon Communications</th>\n",
              "      <th>Consolidated Edison</th>\n",
              "    </tr>\n",
              "  </thead>\n",
              "  <tbody>\n",
              "    <tr>\n",
              "      <th>0</th>\n",
              "      <td>1999</td>\n",
              "      <td>0.000000</td>\n",
              "      <td>0.000000</td>\n",
              "      <td>0.000000</td>\n",
              "      <td>0.000000</td>\n",
              "      <td>0.000000</td>\n",
              "      <td>0.000000</td>\n",
              "      <td>0.000000</td>\n",
              "      <td>0.000000</td>\n",
              "      <td>0.000000</td>\n",
              "      <td>0.000000</td>\n",
              "      <td>0.000000</td>\n",
              "      <td>0.000000</td>\n",
              "      <td>0.000000</td>\n",
              "      <td>0.000000</td>\n",
              "      <td>0.000000</td>\n",
              "      <td>0.000000</td>\n",
              "      <td>0.000000</td>\n",
              "      <td>0.000000</td>\n",
              "      <td>0.000000</td>\n",
              "      <td>0.000000</td>\n",
              "    </tr>\n",
              "    <tr>\n",
              "      <th>1</th>\n",
              "      <td>2000</td>\n",
              "      <td>0.045909</td>\n",
              "      <td>0.066613</td>\n",
              "      <td>0.000000</td>\n",
              "      <td>0.161778</td>\n",
              "      <td>0.005315</td>\n",
              "      <td>0.000000</td>\n",
              "      <td>0.087042</td>\n",
              "      <td>0.021043</td>\n",
              "      <td>0.102837</td>\n",
              "      <td>0.061552</td>\n",
              "      <td>0.057342</td>\n",
              "      <td>0.099907</td>\n",
              "      <td>0.021981</td>\n",
              "      <td>0.000000</td>\n",
              "      <td>0.000000</td>\n",
              "      <td>0.054848</td>\n",
              "      <td>0.034634</td>\n",
              "      <td>0.000000</td>\n",
              "      <td>0.030720</td>\n",
              "      <td>0.056623</td>\n",
              "    </tr>\n",
              "    <tr>\n",
              "      <th>2</th>\n",
              "      <td>2001</td>\n",
              "      <td>0.048419</td>\n",
              "      <td>0.054665</td>\n",
              "      <td>0.072074</td>\n",
              "      <td>0.099130</td>\n",
              "      <td>0.006098</td>\n",
              "      <td>0.000000</td>\n",
              "      <td>0.076446</td>\n",
              "      <td>0.029929</td>\n",
              "      <td>0.111251</td>\n",
              "      <td>0.081982</td>\n",
              "      <td>0.129038</td>\n",
              "      <td>0.074826</td>\n",
              "      <td>0.015285</td>\n",
              "      <td>0.000000</td>\n",
              "      <td>0.000000</td>\n",
              "      <td>0.060047</td>\n",
              "      <td>0.056561</td>\n",
              "      <td>0.000000</td>\n",
              "      <td>0.032448</td>\n",
              "      <td>0.054509</td>\n",
              "    </tr>\n",
              "    <tr>\n",
              "      <th>3</th>\n",
              "      <td>2002</td>\n",
              "      <td>0.060202</td>\n",
              "      <td>0.071120</td>\n",
              "      <td>0.086506</td>\n",
              "      <td>0.082969</td>\n",
              "      <td>0.007148</td>\n",
              "      <td>0.000000</td>\n",
              "      <td>0.065937</td>\n",
              "      <td>0.050395</td>\n",
              "      <td>0.119669</td>\n",
              "      <td>0.068538</td>\n",
              "      <td>0.111842</td>\n",
              "      <td>0.067390</td>\n",
              "      <td>0.021536</td>\n",
              "      <td>0.000000</td>\n",
              "      <td>0.000000</td>\n",
              "      <td>0.061102</td>\n",
              "      <td>0.125882</td>\n",
              "      <td>0.000000</td>\n",
              "      <td>0.039742</td>\n",
              "      <td>0.051845</td>\n",
              "    </tr>\n",
              "    <tr>\n",
              "      <th>4</th>\n",
              "      <td>2003</td>\n",
              "      <td>0.048512</td>\n",
              "      <td>0.059032</td>\n",
              "      <td>0.065000</td>\n",
              "      <td>0.048636</td>\n",
              "      <td>0.006744</td>\n",
              "      <td>0.000000</td>\n",
              "      <td>0.059195</td>\n",
              "      <td>0.085059</td>\n",
              "      <td>0.069684</td>\n",
              "      <td>0.048939</td>\n",
              "      <td>0.094282</td>\n",
              "      <td>0.058984</td>\n",
              "      <td>0.022185</td>\n",
              "      <td>0.000000</td>\n",
              "      <td>0.000000</td>\n",
              "      <td>0.055217</td>\n",
              "      <td>0.041280</td>\n",
              "      <td>0.000000</td>\n",
              "      <td>0.043900</td>\n",
              "      <td>0.052081</td>\n",
              "    </tr>\n",
              "    <tr>\n",
              "      <th>5</th>\n",
              "      <td>2004</td>\n",
              "      <td>0.046154</td>\n",
              "      <td>0.054189</td>\n",
              "      <td>0.062516</td>\n",
              "      <td>0.047428</td>\n",
              "      <td>0.006484</td>\n",
              "      <td>0.075388</td>\n",
              "      <td>0.047307</td>\n",
              "      <td>0.085371</td>\n",
              "      <td>0.056769</td>\n",
              "      <td>0.040007</td>\n",
              "      <td>0.078237</td>\n",
              "      <td>0.046875</td>\n",
              "      <td>0.074283</td>\n",
              "      <td>0.000000</td>\n",
              "      <td>0.000000</td>\n",
              "      <td>0.050658</td>\n",
              "      <td>0.035398</td>\n",
              "      <td>0.000000</td>\n",
              "      <td>0.038015</td>\n",
              "      <td>0.051657</td>\n",
              "    </tr>\n",
              "    <tr>\n",
              "      <th>6</th>\n",
              "      <td>2005</td>\n",
              "      <td>0.040953</td>\n",
              "      <td>0.087425</td>\n",
              "      <td>0.072566</td>\n",
              "      <td>0.044972</td>\n",
              "      <td>0.007238</td>\n",
              "      <td>0.065728</td>\n",
              "      <td>0.062558</td>\n",
              "      <td>0.055431</td>\n",
              "      <td>0.048454</td>\n",
              "      <td>0.058603</td>\n",
              "      <td>0.065894</td>\n",
              "      <td>0.050875</td>\n",
              "      <td>0.026846</td>\n",
              "      <td>0.000000</td>\n",
              "      <td>0.000000</td>\n",
              "      <td>0.049571</td>\n",
              "      <td>0.031128</td>\n",
              "      <td>0.000000</td>\n",
              "      <td>0.053121</td>\n",
              "      <td>0.049212</td>\n",
              "    </tr>\n",
              "    <tr>\n",
              "      <th>7</th>\n",
              "      <td>2006</td>\n",
              "      <td>0.038686</td>\n",
              "      <td>0.046210</td>\n",
              "      <td>0.052555</td>\n",
              "      <td>0.037335</td>\n",
              "      <td>0.005726</td>\n",
              "      <td>0.046171</td>\n",
              "      <td>0.052267</td>\n",
              "      <td>0.037203</td>\n",
              "      <td>0.041579</td>\n",
              "      <td>0.030701</td>\n",
              "      <td>0.031394</td>\n",
              "      <td>0.038927</td>\n",
              "      <td>0.020733</td>\n",
              "      <td>0.000000</td>\n",
              "      <td>0.000000</td>\n",
              "      <td>0.047273</td>\n",
              "      <td>0.036188</td>\n",
              "      <td>0.000000</td>\n",
              "      <td>0.078477</td>\n",
              "      <td>0.047847</td>\n",
              "    </tr>\n",
              "    <tr>\n",
              "      <th>8</th>\n",
              "      <td>2007</td>\n",
              "      <td>0.043927</td>\n",
              "      <td>0.073236</td>\n",
              "      <td>0.050998</td>\n",
              "      <td>0.041989</td>\n",
              "      <td>0.006271</td>\n",
              "      <td>0.051179</td>\n",
              "      <td>0.058124</td>\n",
              "      <td>0.034167</td>\n",
              "      <td>0.056608</td>\n",
              "      <td>0.041758</td>\n",
              "      <td>0.034746</td>\n",
              "      <td>0.065617</td>\n",
              "      <td>0.031696</td>\n",
              "      <td>0.000000</td>\n",
              "      <td>0.000000</td>\n",
              "      <td>0.046855</td>\n",
              "      <td>0.039696</td>\n",
              "      <td>0.000000</td>\n",
              "      <td>0.037652</td>\n",
              "      <td>0.047492</td>\n",
              "    </tr>\n",
              "    <tr>\n",
              "      <th>9</th>\n",
              "      <td>2008</td>\n",
              "      <td>0.220452</td>\n",
              "      <td>0.176095</td>\n",
              "      <td>0.063981</td>\n",
              "      <td>0.061066</td>\n",
              "      <td>0.079308</td>\n",
              "      <td>0.065538</td>\n",
              "      <td>0.072022</td>\n",
              "      <td>0.056140</td>\n",
              "      <td>0.066200</td>\n",
              "      <td>0.091904</td>\n",
              "      <td>0.066610</td>\n",
              "      <td>0.094453</td>\n",
              "      <td>0.059761</td>\n",
              "      <td>0.000000</td>\n",
              "      <td>0.000000</td>\n",
              "      <td>0.076368</td>\n",
              "      <td>0.057845</td>\n",
              "      <td>0.035394</td>\n",
              "      <td>0.056637</td>\n",
              "      <td>0.060108</td>\n",
              "    </tr>\n",
              "    <tr>\n",
              "      <th>10</th>\n",
              "      <td>2009</td>\n",
              "      <td>0.067244</td>\n",
              "      <td>0.062449</td>\n",
              "      <td>0.061372</td>\n",
              "      <td>0.046868</td>\n",
              "      <td>0.077327</td>\n",
              "      <td>0.060249</td>\n",
              "      <td>0.065920</td>\n",
              "      <td>0.058509</td>\n",
              "      <td>0.050953</td>\n",
              "      <td>0.053215</td>\n",
              "      <td>0.043836</td>\n",
              "      <td>0.079227</td>\n",
              "      <td>0.031185</td>\n",
              "      <td>0.000000</td>\n",
              "      <td>0.000000</td>\n",
              "      <td>0.055098</td>\n",
              "      <td>0.052378</td>\n",
              "      <td>0.046483</td>\n",
              "      <td>0.055992</td>\n",
              "      <td>0.051508</td>\n",
              "    </tr>\n",
              "    <tr>\n",
              "      <th>11</th>\n",
              "      <td>2010</td>\n",
              "      <td>0.059301</td>\n",
              "      <td>0.054575</td>\n",
              "      <td>0.057515</td>\n",
              "      <td>0.040777</td>\n",
              "      <td>0.062811</td>\n",
              "      <td>0.050557</td>\n",
              "      <td>0.050368</td>\n",
              "      <td>0.057182</td>\n",
              "      <td>0.038746</td>\n",
              "      <td>0.036585</td>\n",
              "      <td>0.035320</td>\n",
              "      <td>0.030825</td>\n",
              "      <td>0.149691</td>\n",
              "      <td>0.000000</td>\n",
              "      <td>0.000000</td>\n",
              "      <td>0.054629</td>\n",
              "      <td>0.049618</td>\n",
              "      <td>0.041688</td>\n",
              "      <td>0.051845</td>\n",
              "      <td>0.048013</td>\n",
              "    </tr>\n",
              "    <tr>\n",
              "      <th>12</th>\n",
              "      <td>2011</td>\n",
              "      <td>0.053288</td>\n",
              "      <td>0.056432</td>\n",
              "      <td>0.051990</td>\n",
              "      <td>0.041720</td>\n",
              "      <td>0.077957</td>\n",
              "      <td>0.046343</td>\n",
              "      <td>0.049714</td>\n",
              "      <td>0.056878</td>\n",
              "      <td>0.040128</td>\n",
              "      <td>0.044951</td>\n",
              "      <td>0.033316</td>\n",
              "      <td>0.030677</td>\n",
              "      <td>0.094176</td>\n",
              "      <td>0.023003</td>\n",
              "      <td>0.155432</td>\n",
              "      <td>0.046936</td>\n",
              "      <td>0.039323</td>\n",
              "      <td>0.035933</td>\n",
              "      <td>0.048916</td>\n",
              "      <td>0.038691</td>\n",
              "    </tr>\n",
              "    <tr>\n",
              "      <th>13</th>\n",
              "      <td>2012</td>\n",
              "      <td>0.054071</td>\n",
              "      <td>0.049027</td>\n",
              "      <td>0.048295</td>\n",
              "      <td>0.038319</td>\n",
              "      <td>0.074131</td>\n",
              "      <td>0.044287</td>\n",
              "      <td>0.044208</td>\n",
              "      <td>0.052210</td>\n",
              "      <td>0.040772</td>\n",
              "      <td>0.040373</td>\n",
              "      <td>0.030693</td>\n",
              "      <td>0.036796</td>\n",
              "      <td>0.106247</td>\n",
              "      <td>0.027738</td>\n",
              "      <td>0.073568</td>\n",
              "      <td>0.052083</td>\n",
              "      <td>0.042078</td>\n",
              "      <td>0.038737</td>\n",
              "      <td>0.046568</td>\n",
              "      <td>0.043572</td>\n",
              "    </tr>\n",
              "    <tr>\n",
              "      <th>14</th>\n",
              "      <td>2013</td>\n",
              "      <td>0.047929</td>\n",
              "      <td>0.045213</td>\n",
              "      <td>0.057122</td>\n",
              "      <td>0.047748</td>\n",
              "      <td>0.067818</td>\n",
              "      <td>0.057819</td>\n",
              "      <td>0.058339</td>\n",
              "      <td>0.051195</td>\n",
              "      <td>0.045769</td>\n",
              "      <td>0.043291</td>\n",
              "      <td>0.030311</td>\n",
              "      <td>0.039615</td>\n",
              "      <td>0.019402</td>\n",
              "      <td>0.043333</td>\n",
              "      <td>0.024913</td>\n",
              "      <td>0.044248</td>\n",
              "      <td>0.035807</td>\n",
              "      <td>0.041088</td>\n",
              "      <td>0.042226</td>\n",
              "      <td>0.044501</td>\n",
              "    </tr>\n",
              "    <tr>\n",
              "      <th>15</th>\n",
              "      <td>2014</td>\n",
              "      <td>0.040593</td>\n",
              "      <td>0.033663</td>\n",
              "      <td>0.042025</td>\n",
              "      <td>0.041353</td>\n",
              "      <td>0.054573</td>\n",
              "      <td>0.049512</td>\n",
              "      <td>0.045965</td>\n",
              "      <td>0.054778</td>\n",
              "      <td>0.039100</td>\n",
              "      <td>0.036396</td>\n",
              "      <td>0.030676</td>\n",
              "      <td>0.032933</td>\n",
              "      <td>0.027267</td>\n",
              "      <td>0.040180</td>\n",
              "      <td>0.034009</td>\n",
              "      <td>0.034901</td>\n",
              "      <td>0.040546</td>\n",
              "      <td>0.047637</td>\n",
              "      <td>0.045746</td>\n",
              "      <td>0.038176</td>\n",
              "    </tr>\n",
              "    <tr>\n",
              "      <th>16</th>\n",
              "      <td>2015</td>\n",
              "      <td>0.037279</td>\n",
              "      <td>0.042341</td>\n",
              "      <td>0.048508</td>\n",
              "      <td>0.052543</td>\n",
              "      <td>0.085851</td>\n",
              "      <td>0.059100</td>\n",
              "      <td>0.044141</td>\n",
              "      <td>0.054635</td>\n",
              "      <td>0.033917</td>\n",
              "      <td>0.036848</td>\n",
              "      <td>0.035415</td>\n",
              "      <td>0.029079</td>\n",
              "      <td>0.041745</td>\n",
              "      <td>0.129357</td>\n",
              "      <td>0.034983</td>\n",
              "      <td>0.038284</td>\n",
              "      <td>0.053922</td>\n",
              "      <td>0.045956</td>\n",
              "      <td>0.047923</td>\n",
              "      <td>0.040454</td>\n",
              "    </tr>\n",
              "    <tr>\n",
              "      <th>17</th>\n",
              "      <td>2016</td>\n",
              "      <td>0.034753</td>\n",
              "      <td>0.027485</td>\n",
              "      <td>0.051397</td>\n",
              "      <td>0.047425</td>\n",
              "      <td>0.090833</td>\n",
              "      <td>0.070491</td>\n",
              "      <td>0.041806</td>\n",
              "      <td>0.045145</td>\n",
              "      <td>0.033497</td>\n",
              "      <td>0.041137</td>\n",
              "      <td>0.031824</td>\n",
              "      <td>0.031867</td>\n",
              "      <td>0.066829</td>\n",
              "      <td>0.024143</td>\n",
              "      <td>0.038820</td>\n",
              "      <td>0.040793</td>\n",
              "      <td>0.041802</td>\n",
              "      <td>0.045032</td>\n",
              "      <td>0.042572</td>\n",
              "      <td>0.036374</td>\n",
              "    </tr>\n",
              "    <tr>\n",
              "      <th>18</th>\n",
              "      <td>2017</td>\n",
              "      <td>0.035569</td>\n",
              "      <td>0.059537</td>\n",
              "      <td>0.054571</td>\n",
              "      <td>0.051908</td>\n",
              "      <td>0.129496</td>\n",
              "      <td>0.056748</td>\n",
              "      <td>0.044493</td>\n",
              "      <td>0.050412</td>\n",
              "      <td>0.034606</td>\n",
              "      <td>0.060055</td>\n",
              "      <td>0.027283</td>\n",
              "      <td>0.031802</td>\n",
              "      <td>0.039854</td>\n",
              "      <td>0.027670</td>\n",
              "      <td>0.032179</td>\n",
              "      <td>0.030132</td>\n",
              "      <td>0.037729</td>\n",
              "      <td>0.039943</td>\n",
              "      <td>0.043879</td>\n",
              "      <td>0.032490</td>\n",
              "    </tr>\n",
              "    <tr>\n",
              "      <th>19</th>\n",
              "      <td>2018</td>\n",
              "      <td>0.060741</td>\n",
              "      <td>0.031467</td>\n",
              "      <td>0.050137</td>\n",
              "      <td>0.053977</td>\n",
              "      <td>0.142574</td>\n",
              "      <td>0.052990</td>\n",
              "      <td>0.041862</td>\n",
              "      <td>0.070077</td>\n",
              "      <td>0.038558</td>\n",
              "      <td>0.076451</td>\n",
              "      <td>0.032698</td>\n",
              "      <td>0.032244</td>\n",
              "      <td>0.093494</td>\n",
              "      <td>0.047139</td>\n",
              "      <td>0.048100</td>\n",
              "      <td>0.028323</td>\n",
              "      <td>0.039320</td>\n",
              "      <td>0.067256</td>\n",
              "      <td>0.042200</td>\n",
              "      <td>0.037405</td>\n",
              "    </tr>\n",
              "    <tr>\n",
              "      <th>20</th>\n",
              "      <td>2019</td>\n",
              "      <td>0.065718</td>\n",
              "      <td>0.025382</td>\n",
              "      <td>0.042553</td>\n",
              "      <td>0.054901</td>\n",
              "      <td>0.075700</td>\n",
              "      <td>0.042936</td>\n",
              "      <td>0.036901</td>\n",
              "      <td>0.052201</td>\n",
              "      <td>0.029122</td>\n",
              "      <td>0.054080</td>\n",
              "      <td>0.023783</td>\n",
              "      <td>0.028908</td>\n",
              "      <td>0.066225</td>\n",
              "      <td>0.044875</td>\n",
              "      <td>0.042337</td>\n",
              "      <td>0.025000</td>\n",
              "      <td>0.042171</td>\n",
              "      <td>0.054295</td>\n",
              "      <td>0.039454</td>\n",
              "      <td>0.032718</td>\n",
              "    </tr>\n",
              "    <tr>\n",
              "      <th>21</th>\n",
              "      <td>2020</td>\n",
              "      <td>0.082927</td>\n",
              "      <td>0.024018</td>\n",
              "      <td>0.041783</td>\n",
              "      <td>0.043689</td>\n",
              "      <td>0.102564</td>\n",
              "      <td>0.048958</td>\n",
              "      <td>0.045054</td>\n",
              "      <td>0.072323</td>\n",
              "      <td>0.031573</td>\n",
              "      <td>0.035976</td>\n",
              "      <td>0.023279</td>\n",
              "      <td>0.037015</td>\n",
              "      <td>0.008067</td>\n",
              "      <td>0.075896</td>\n",
              "      <td>0.045822</td>\n",
              "      <td>0.025621</td>\n",
              "      <td>0.034196</td>\n",
              "      <td>0.057253</td>\n",
              "      <td>0.042085</td>\n",
              "      <td>0.042341</td>\n",
              "    </tr>\n",
              "  </tbody>\n",
              "</table>\n",
              "</div>"
            ],
            "text/plain": [
              "    year  Altria Group Inc  ...  Verizon Communications  Consolidated Edison\n",
              "0   1999          0.000000  ...                0.000000             0.000000\n",
              "1   2000          0.045909  ...                0.030720             0.056623\n",
              "2   2001          0.048419  ...                0.032448             0.054509\n",
              "3   2002          0.060202  ...                0.039742             0.051845\n",
              "4   2003          0.048512  ...                0.043900             0.052081\n",
              "5   2004          0.046154  ...                0.038015             0.051657\n",
              "6   2005          0.040953  ...                0.053121             0.049212\n",
              "7   2006          0.038686  ...                0.078477             0.047847\n",
              "8   2007          0.043927  ...                0.037652             0.047492\n",
              "9   2008          0.220452  ...                0.056637             0.060108\n",
              "10  2009          0.067244  ...                0.055992             0.051508\n",
              "11  2010          0.059301  ...                0.051845             0.048013\n",
              "12  2011          0.053288  ...                0.048916             0.038691\n",
              "13  2012          0.054071  ...                0.046568             0.043572\n",
              "14  2013          0.047929  ...                0.042226             0.044501\n",
              "15  2014          0.040593  ...                0.045746             0.038176\n",
              "16  2015          0.037279  ...                0.047923             0.040454\n",
              "17  2016          0.034753  ...                0.042572             0.036374\n",
              "18  2017          0.035569  ...                0.043879             0.032490\n",
              "19  2018          0.060741  ...                0.042200             0.037405\n",
              "20  2019          0.065718  ...                0.039454             0.032718\n",
              "21  2020          0.082927  ...                0.042085             0.042341\n",
              "\n",
              "[22 rows x 21 columns]"
            ]
          },
          "metadata": {
            "tags": []
          },
          "execution_count": 9
        }
      ]
    },
    {
      "cell_type": "code",
      "metadata": {
        "colab": {
          "base_uri": "https://localhost:8080/"
        },
        "id": "3q8m4AiIAgBG",
        "outputId": "0af9da77-fa38-40d7-ad7d-0afe1313e3be"
      },
      "source": [
        "TwentyYearDivYieldAVG.columns[1:]\n",
        "cnames"
      ],
      "execution_count": null,
      "outputs": [
        {
          "output_type": "execute_result",
          "data": {
            "text/plain": [
              "['Altria Group Inc',\n",
              " 'Duke Realty Corp',\n",
              " 'Welltower Inc.',\n",
              " 'Ventas Inc',\n",
              " 'Lumen Technologies',\n",
              " 'Healthpeak Properties',\n",
              " 'Realty Income Corporation',\n",
              " 'AT&T Inc.',\n",
              " 'Mid-America Apartments',\n",
              " 'Kimco Realty',\n",
              " 'Prologis',\n",
              " 'UDR, Inc.',\n",
              " 'L Brands Inc.',\n",
              " 'Kinder Morgan',\n",
              " 'LyondellBasell',\n",
              " 'Ameren Corp',\n",
              " 'CenterPoint Energy',\n",
              " 'Philip Morris International',\n",
              " 'Verizon Communications',\n",
              " 'Consolidated Edison']"
            ]
          },
          "metadata": {
            "tags": []
          },
          "execution_count": 76
        }
      ]
    },
    {
      "cell_type": "code",
      "metadata": {
        "colab": {
          "base_uri": "https://localhost:8080/"
        },
        "id": "OAD_oHPRTEG0",
        "outputId": "186cc0fb-a3b7-43e5-f9cd-6cc9f94e3f25"
      },
      "source": [
        "year2020div_yield = []\n",
        "for dyield in TwentyYearDivYieldAVG[cnames].iloc[21]:\n",
        "  year2020div_yield.append(dyield)\n",
        "year2020div_yield"
      ],
      "execution_count": null,
      "outputs": [
        {
          "output_type": "execute_result",
          "data": {
            "text/plain": [
              "[0.08292682926829269,\n",
              " 0.0240180135101326,\n",
              " 0.04178272980501393,\n",
              " 0.043688825448613376,\n",
              " 0.10256410256410256,\n",
              " 0.048957988752894484,\n",
              " 0.04505388451021393,\n",
              " 0.07232267037552155,\n",
              " 0.031573131265293236,\n",
              " 0.035976015989340436,\n",
              " 0.02327914910696368,\n",
              " 0.037015352589123085,\n",
              " 0.00806668459263243,\n",
              " 0.07589612289685442,\n",
              " 0.045821514291948515,\n",
              " 0.025621316935690492,\n",
              " 0.03419593345656192,\n",
              " 0.057253291460321286,\n",
              " 0.04208510638297873,\n",
              " 0.042341220423412214]"
            ]
          },
          "metadata": {
            "tags": []
          },
          "execution_count": 131
        }
      ]
    },
    {
      "cell_type": "code",
      "metadata": {
        "colab": {
          "base_uri": "https://localhost:8080/",
          "height": 542
        },
        "id": "MMvQZX0PhlcY",
        "outputId": "e84edf79-270f-465d-b762-8645222c1e3c"
      },
      "source": [
        "fig = go.Figure()\n",
        "fig.add_trace(go.Bar(x=cnames, y=yesterday_close_price, marker_color=\"forestgreen\"))\n",
        "fig.update_layout(title_text=\"Yesterday's Closing Prices as of April 1, 2021\",\n",
        "                  xaxis=dict(title='Company'),\n",
        "                  yaxis=dict(title=\"Closing Price from March 31, 2021 in USD\"))\n",
        "\n",
        "py.plot(figure_or_data=fig, filename=\"Yesterday_Closing_Prices_as_of_4_1_2021\", auto_open=True)\n",
        "fig.show()"
      ],
      "execution_count": null,
      "outputs": [
        {
          "output_type": "display_data",
          "data": {
            "text/html": [
              "<html>\n",
              "<head><meta charset=\"utf-8\" /></head>\n",
              "<body>\n",
              "    <div>\n",
              "            <script src=\"https://cdnjs.cloudflare.com/ajax/libs/mathjax/2.7.5/MathJax.js?config=TeX-AMS-MML_SVG\"></script><script type=\"text/javascript\">if (window.MathJax) {MathJax.Hub.Config({SVG: {font: \"STIX-Web\"}});}</script>\n",
              "                <script type=\"text/javascript\">window.PlotlyConfig = {MathJaxConfig: 'local'};</script>\n",
              "        <script src=\"https://cdn.plot.ly/plotly-latest.min.js\"></script>    \n",
              "            <div id=\"7567790e-b3cf-42ad-97f0-4921897ec3ea\" class=\"plotly-graph-div\" style=\"height:525px; width:100%;\"></div>\n",
              "            <script type=\"text/javascript\">\n",
              "                \n",
              "                    window.PLOTLYENV=window.PLOTLYENV || {};\n",
              "                    \n",
              "                if (document.getElementById(\"7567790e-b3cf-42ad-97f0-4921897ec3ea\")) {\n",
              "                    Plotly.newPlot(\n",
              "                        '7567790e-b3cf-42ad-97f0-4921897ec3ea',\n",
              "                        [{\"marker\": {\"color\": \"forestgreen\"}, \"type\": \"bar\", \"x\": [\"Altria Group Inc\", \"Duke Realty Corp\", \"Welltower Inc.\", \"Ventas Inc\", \"Lumen Technologies\", \"Healthpeak Properties\", \"Realty Income Corporation\", \"AT&T Inc.\", \"Mid-America Apartments\", \"Kimco Realty\", \"Prologis\", \"UDR, Inc.\", \"L Brands Inc.\", \"Kinder Morgan\", \"LyondellBasell\", \"Ameren Corp\", \"CenterPoint Energy\", \"Philip Morris International\", \"Verizon Communications\", \"Consolidated Edison\"], \"y\": [51.16, 41.93, 71.63, 53.34, 13.35, 31.74, 63.5, 30.27, 144.36, 18.75, 106.0, 43.86, 61.86, 16.65, 104.05, 81.36, 22.65, 88.74, 58.15, 74.8]}],\n",
              "                        {\"template\": {\"data\": {\"bar\": [{\"error_x\": {\"color\": \"#2a3f5f\"}, \"error_y\": {\"color\": \"#2a3f5f\"}, \"marker\": {\"line\": {\"color\": \"#E5ECF6\", \"width\": 0.5}}, \"type\": \"bar\"}], \"barpolar\": [{\"marker\": {\"line\": {\"color\": \"#E5ECF6\", \"width\": 0.5}}, \"type\": \"barpolar\"}], \"carpet\": [{\"aaxis\": {\"endlinecolor\": \"#2a3f5f\", \"gridcolor\": \"white\", \"linecolor\": \"white\", \"minorgridcolor\": \"white\", \"startlinecolor\": \"#2a3f5f\"}, \"baxis\": {\"endlinecolor\": \"#2a3f5f\", \"gridcolor\": \"white\", \"linecolor\": \"white\", \"minorgridcolor\": \"white\", \"startlinecolor\": \"#2a3f5f\"}, \"type\": \"carpet\"}], \"choropleth\": [{\"colorbar\": {\"outlinewidth\": 0, \"ticks\": \"\"}, \"type\": \"choropleth\"}], \"contour\": [{\"colorbar\": {\"outlinewidth\": 0, \"ticks\": \"\"}, \"colorscale\": [[0.0, \"#0d0887\"], [0.1111111111111111, \"#46039f\"], [0.2222222222222222, \"#7201a8\"], [0.3333333333333333, \"#9c179e\"], [0.4444444444444444, \"#bd3786\"], [0.5555555555555556, \"#d8576b\"], [0.6666666666666666, \"#ed7953\"], [0.7777777777777778, \"#fb9f3a\"], [0.8888888888888888, \"#fdca26\"], [1.0, \"#f0f921\"]], \"type\": \"contour\"}], \"contourcarpet\": [{\"colorbar\": {\"outlinewidth\": 0, \"ticks\": \"\"}, \"type\": \"contourcarpet\"}], \"heatmap\": [{\"colorbar\": {\"outlinewidth\": 0, \"ticks\": \"\"}, \"colorscale\": [[0.0, \"#0d0887\"], [0.1111111111111111, \"#46039f\"], [0.2222222222222222, \"#7201a8\"], [0.3333333333333333, \"#9c179e\"], [0.4444444444444444, \"#bd3786\"], [0.5555555555555556, \"#d8576b\"], [0.6666666666666666, \"#ed7953\"], [0.7777777777777778, \"#fb9f3a\"], [0.8888888888888888, \"#fdca26\"], [1.0, \"#f0f921\"]], \"type\": \"heatmap\"}], \"heatmapgl\": [{\"colorbar\": {\"outlinewidth\": 0, \"ticks\": \"\"}, \"colorscale\": [[0.0, \"#0d0887\"], [0.1111111111111111, \"#46039f\"], [0.2222222222222222, \"#7201a8\"], [0.3333333333333333, \"#9c179e\"], [0.4444444444444444, \"#bd3786\"], [0.5555555555555556, \"#d8576b\"], [0.6666666666666666, \"#ed7953\"], [0.7777777777777778, \"#fb9f3a\"], [0.8888888888888888, \"#fdca26\"], [1.0, \"#f0f921\"]], \"type\": \"heatmapgl\"}], \"histogram\": [{\"marker\": {\"colorbar\": {\"outlinewidth\": 0, \"ticks\": \"\"}}, \"type\": \"histogram\"}], \"histogram2d\": [{\"colorbar\": {\"outlinewidth\": 0, \"ticks\": \"\"}, \"colorscale\": [[0.0, \"#0d0887\"], [0.1111111111111111, \"#46039f\"], [0.2222222222222222, \"#7201a8\"], [0.3333333333333333, \"#9c179e\"], [0.4444444444444444, \"#bd3786\"], [0.5555555555555556, \"#d8576b\"], [0.6666666666666666, \"#ed7953\"], [0.7777777777777778, \"#fb9f3a\"], [0.8888888888888888, \"#fdca26\"], [1.0, \"#f0f921\"]], \"type\": \"histogram2d\"}], \"histogram2dcontour\": [{\"colorbar\": {\"outlinewidth\": 0, \"ticks\": \"\"}, \"colorscale\": [[0.0, \"#0d0887\"], [0.1111111111111111, \"#46039f\"], [0.2222222222222222, \"#7201a8\"], [0.3333333333333333, \"#9c179e\"], [0.4444444444444444, \"#bd3786\"], [0.5555555555555556, \"#d8576b\"], [0.6666666666666666, \"#ed7953\"], [0.7777777777777778, \"#fb9f3a\"], [0.8888888888888888, \"#fdca26\"], [1.0, \"#f0f921\"]], \"type\": \"histogram2dcontour\"}], \"mesh3d\": [{\"colorbar\": {\"outlinewidth\": 0, \"ticks\": \"\"}, \"type\": \"mesh3d\"}], \"parcoords\": [{\"line\": {\"colorbar\": {\"outlinewidth\": 0, \"ticks\": \"\"}}, \"type\": \"parcoords\"}], \"pie\": [{\"automargin\": true, \"type\": \"pie\"}], \"scatter\": [{\"marker\": {\"colorbar\": {\"outlinewidth\": 0, \"ticks\": \"\"}}, \"type\": \"scatter\"}], \"scatter3d\": [{\"line\": {\"colorbar\": {\"outlinewidth\": 0, \"ticks\": \"\"}}, \"marker\": {\"colorbar\": {\"outlinewidth\": 0, \"ticks\": \"\"}}, \"type\": \"scatter3d\"}], \"scattercarpet\": [{\"marker\": {\"colorbar\": {\"outlinewidth\": 0, \"ticks\": \"\"}}, \"type\": \"scattercarpet\"}], \"scattergeo\": [{\"marker\": {\"colorbar\": {\"outlinewidth\": 0, \"ticks\": \"\"}}, \"type\": \"scattergeo\"}], \"scattergl\": [{\"marker\": {\"colorbar\": {\"outlinewidth\": 0, \"ticks\": \"\"}}, \"type\": \"scattergl\"}], \"scattermapbox\": [{\"marker\": {\"colorbar\": {\"outlinewidth\": 0, \"ticks\": \"\"}}, \"type\": \"scattermapbox\"}], \"scatterpolar\": [{\"marker\": {\"colorbar\": {\"outlinewidth\": 0, \"ticks\": \"\"}}, \"type\": \"scatterpolar\"}], \"scatterpolargl\": [{\"marker\": {\"colorbar\": {\"outlinewidth\": 0, \"ticks\": \"\"}}, \"type\": \"scatterpolargl\"}], \"scatterternary\": [{\"marker\": {\"colorbar\": {\"outlinewidth\": 0, \"ticks\": \"\"}}, \"type\": \"scatterternary\"}], \"surface\": [{\"colorbar\": {\"outlinewidth\": 0, \"ticks\": \"\"}, \"colorscale\": [[0.0, \"#0d0887\"], [0.1111111111111111, \"#46039f\"], [0.2222222222222222, \"#7201a8\"], [0.3333333333333333, \"#9c179e\"], [0.4444444444444444, \"#bd3786\"], [0.5555555555555556, \"#d8576b\"], [0.6666666666666666, \"#ed7953\"], [0.7777777777777778, \"#fb9f3a\"], [0.8888888888888888, \"#fdca26\"], [1.0, \"#f0f921\"]], \"type\": \"surface\"}], \"table\": [{\"cells\": {\"fill\": {\"color\": \"#EBF0F8\"}, \"line\": {\"color\": \"white\"}}, \"header\": {\"fill\": {\"color\": \"#C8D4E3\"}, \"line\": {\"color\": \"white\"}}, \"type\": \"table\"}]}, \"layout\": {\"annotationdefaults\": {\"arrowcolor\": \"#2a3f5f\", \"arrowhead\": 0, \"arrowwidth\": 1}, \"coloraxis\": {\"colorbar\": {\"outlinewidth\": 0, \"ticks\": \"\"}}, \"colorscale\": {\"diverging\": [[0, \"#8e0152\"], [0.1, \"#c51b7d\"], [0.2, \"#de77ae\"], [0.3, \"#f1b6da\"], [0.4, \"#fde0ef\"], [0.5, \"#f7f7f7\"], [0.6, \"#e6f5d0\"], [0.7, \"#b8e186\"], [0.8, \"#7fbc41\"], [0.9, \"#4d9221\"], [1, \"#276419\"]], \"sequential\": [[0.0, \"#0d0887\"], [0.1111111111111111, \"#46039f\"], [0.2222222222222222, \"#7201a8\"], [0.3333333333333333, \"#9c179e\"], [0.4444444444444444, \"#bd3786\"], [0.5555555555555556, \"#d8576b\"], [0.6666666666666666, \"#ed7953\"], [0.7777777777777778, \"#fb9f3a\"], [0.8888888888888888, \"#fdca26\"], [1.0, \"#f0f921\"]], \"sequentialminus\": [[0.0, \"#0d0887\"], [0.1111111111111111, \"#46039f\"], [0.2222222222222222, \"#7201a8\"], [0.3333333333333333, \"#9c179e\"], [0.4444444444444444, \"#bd3786\"], [0.5555555555555556, \"#d8576b\"], [0.6666666666666666, \"#ed7953\"], [0.7777777777777778, \"#fb9f3a\"], [0.8888888888888888, \"#fdca26\"], [1.0, \"#f0f921\"]]}, \"colorway\": [\"#636efa\", \"#EF553B\", \"#00cc96\", \"#ab63fa\", \"#FFA15A\", \"#19d3f3\", \"#FF6692\", \"#B6E880\", \"#FF97FF\", \"#FECB52\"], \"font\": {\"color\": \"#2a3f5f\"}, \"geo\": {\"bgcolor\": \"white\", \"lakecolor\": \"white\", \"landcolor\": \"#E5ECF6\", \"showlakes\": true, \"showland\": true, \"subunitcolor\": \"white\"}, \"hoverlabel\": {\"align\": \"left\"}, \"hovermode\": \"closest\", \"mapbox\": {\"style\": \"light\"}, \"paper_bgcolor\": \"white\", \"plot_bgcolor\": \"#E5ECF6\", \"polar\": {\"angularaxis\": {\"gridcolor\": \"white\", \"linecolor\": \"white\", \"ticks\": \"\"}, \"bgcolor\": \"#E5ECF6\", \"radialaxis\": {\"gridcolor\": \"white\", \"linecolor\": \"white\", \"ticks\": \"\"}}, \"scene\": {\"xaxis\": {\"backgroundcolor\": \"#E5ECF6\", \"gridcolor\": \"white\", \"gridwidth\": 2, \"linecolor\": \"white\", \"showbackground\": true, \"ticks\": \"\", \"zerolinecolor\": \"white\"}, \"yaxis\": {\"backgroundcolor\": \"#E5ECF6\", \"gridcolor\": \"white\", \"gridwidth\": 2, \"linecolor\": \"white\", \"showbackground\": true, \"ticks\": \"\", \"zerolinecolor\": \"white\"}, \"zaxis\": {\"backgroundcolor\": \"#E5ECF6\", \"gridcolor\": \"white\", \"gridwidth\": 2, \"linecolor\": \"white\", \"showbackground\": true, \"ticks\": \"\", \"zerolinecolor\": \"white\"}}, \"shapedefaults\": {\"line\": {\"color\": \"#2a3f5f\"}}, \"ternary\": {\"aaxis\": {\"gridcolor\": \"white\", \"linecolor\": \"white\", \"ticks\": \"\"}, \"baxis\": {\"gridcolor\": \"white\", \"linecolor\": \"white\", \"ticks\": \"\"}, \"bgcolor\": \"#E5ECF6\", \"caxis\": {\"gridcolor\": \"white\", \"linecolor\": \"white\", \"ticks\": \"\"}}, \"title\": {\"x\": 0.05}, \"xaxis\": {\"automargin\": true, \"gridcolor\": \"white\", \"linecolor\": \"white\", \"ticks\": \"\", \"title\": {\"standoff\": 15}, \"zerolinecolor\": \"white\", \"zerolinewidth\": 2}, \"yaxis\": {\"automargin\": true, \"gridcolor\": \"white\", \"linecolor\": \"white\", \"ticks\": \"\", \"title\": {\"standoff\": 15}, \"zerolinecolor\": \"white\", \"zerolinewidth\": 2}}}, \"title\": {\"text\": \"Yesterday's Closing Prices as of April 1, 2021\"}, \"xaxis\": {\"title\": {\"text\": \"Company\"}}, \"yaxis\": {\"title\": {\"text\": \"Closing Price from March 31, 2021 in USD\"}}},\n",
              "                        {\"responsive\": true}\n",
              "                    ).then(function(){\n",
              "                            \n",
              "var gd = document.getElementById('7567790e-b3cf-42ad-97f0-4921897ec3ea');\n",
              "var x = new MutationObserver(function (mutations, observer) {{\n",
              "        var display = window.getComputedStyle(gd).display;\n",
              "        if (!display || display === 'none') {{\n",
              "            console.log([gd, 'removed!']);\n",
              "            Plotly.purge(gd);\n",
              "            observer.disconnect();\n",
              "        }}\n",
              "}});\n",
              "\n",
              "// Listen for the removal of the full notebook cells\n",
              "var notebookContainer = gd.closest('#notebook-container');\n",
              "if (notebookContainer) {{\n",
              "    x.observe(notebookContainer, {childList: true});\n",
              "}}\n",
              "\n",
              "// Listen for the clearing of the current output cell\n",
              "var outputEl = gd.closest('.output');\n",
              "if (outputEl) {{\n",
              "    x.observe(outputEl, {childList: true});\n",
              "}}\n",
              "\n",
              "                        })\n",
              "                };\n",
              "                \n",
              "            </script>\n",
              "        </div>\n",
              "</body>\n",
              "</html>"
            ]
          },
          "metadata": {
            "tags": []
          }
        }
      ]
    },
    {
      "cell_type": "code",
      "metadata": {
        "colab": {
          "base_uri": "https://localhost:8080/",
          "height": 35
        },
        "id": "3fxWPMUhPwMb",
        "outputId": "e07c77ed-c951-438b-a4cf-a40433562a87"
      },
      "source": [
        "fig = go.Figure()\n",
        "fig.add_trace(go.Bar(x=cnames, y=TwentyYearAVG, name=\"Twenty Year Div Yield AVG\"))\n",
        "fig.add_trace(go.Bar(x=cnames, y=year2020div_yield, name=\"Dividend Yield for 2020\"))\n",
        "\n",
        "fig.update_layout(title_text=\"2020 DivYields Juxtaposed to 20Year AVG DivYield\",\n",
        "                  xaxis=dict(title='Company'),\n",
        "                  yaxis=dict(title='Dividend Yield '),\n",
        "                  barmode=\"group\")\n",
        "py.plot(figure_or_data=fig, filename=\"2020_DivYields_Juxt_to_20Year_AVG\", auto_open=True)"
      ],
      "execution_count": null,
      "outputs": [
        {
          "output_type": "execute_result",
          "data": {
            "application/vnd.google.colaboratory.intrinsic+json": {
              "type": "string"
            },
            "text/plain": [
              "'https://plotly.com/~ssbyrne89/114/'"
            ]
          },
          "metadata": {
            "tags": []
          },
          "execution_count": 158
        }
      ]
    }
  ]
}